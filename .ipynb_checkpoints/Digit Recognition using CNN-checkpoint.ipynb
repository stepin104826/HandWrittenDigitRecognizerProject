{
 "cells": [
  {
   "cell_type": "code",
   "execution_count": 137,
   "id": "7e0b73dc",
   "metadata": {},
   "outputs": [],
   "source": [
    "import pandas as pd\n",
    "import numpy as np\n",
    "import matplotlib.pyplot as plt\n",
    "import cv2\n",
    "import tensorflow as tf\n",
    "from tensorflow import keras\n",
    "from tensorflow.keras.models import Sequential\n",
    "from tensorflow.keras.layers import Conv2D, MaxPooling2D, Dense, Flatten, Dropout"
   ]
  },
  {
   "cell_type": "code",
   "execution_count": 129,
   "id": "f76e8f1f",
   "metadata": {},
   "outputs": [],
   "source": [
    "# Load the MNIST data\n",
    "dataset = keras.datasets.mnist\n",
    "(X_tr,Y_tr),(X_te,Y_te) = dataset.load_data()"
   ]
  },
  {
   "cell_type": "code",
   "execution_count": 130,
   "id": "ec265c03",
   "metadata": {},
   "outputs": [
    {
     "data": {
      "text/plain": [
       "((60000, 28, 28), (60000,), (10000, 28, 28), (10000,))"
      ]
     },
     "execution_count": 130,
     "metadata": {},
     "output_type": "execute_result"
    }
   ],
   "source": [
    "X_tr.shape,Y_tr.shape,X_te.shape,Y_te.shape"
   ]
  },
  {
   "cell_type": "code",
   "execution_count": 131,
   "id": "2422ec09",
   "metadata": {},
   "outputs": [
    {
     "data": {
      "text/plain": [
       "(TensorShape([60000, 60, 60]), TensorShape([10000, 60, 60]))"
      ]
     },
     "execution_count": 131,
     "metadata": {},
     "output_type": "execute_result"
    }
   ],
   "source": [
    "X_train = []\n",
    "X_test = []\n",
    "for i in range(len(X_tr)):\n",
    "    resized = cv2.resize(X_tr[i],(60,60))\n",
    "    X_train.append(resized)\n",
    "    \n",
    "for i in range(len(X_te)):\n",
    "    resized = cv2.resize(X_te[i],(60,60)) \n",
    "    X_test.append(resized)\n",
    "\n",
    "X_train = tf.constant(X_train)\n",
    "X_test = tf.constant(X_test)\n",
    "X_train.shape,X_test.shape"
   ]
  },
  {
   "cell_type": "code",
   "execution_count": 132,
   "id": "02c0bcd0",
   "metadata": {},
   "outputs": [
    {
     "name": "stdout",
     "output_type": "stream",
     "text": [
      "0\n"
     ]
    },
    {
     "data": {
      "image/png": "[encoded data removed]",
      "text/plain": [
       "<Figure size 432x288 with 1 Axes>"
      ]
     },
     "metadata": {
      "needs_background": "light"
     },
     "output_type": "display_data"
    }
   ],
   "source": [
    "num = np.random.randint(0,len(X_train))\n",
    "plt.imshow(X_train[num])\n",
    "print(Y_tr[num])"
   ]
  },
  {
   "cell_type": "code",
   "execution_count": 133,
   "id": "96201bc5",
   "metadata": {},
   "outputs": [],
   "source": [
    "X_train,X_test = X_train/255,X_test/255"
   ]
  },
  {
   "cell_type": "code",
   "execution_count": 134,
   "id": "36de2347",
   "metadata": {},
   "outputs": [
    {
     "name": "stdout",
     "output_type": "stream",
     "text": [
      "tf.Tensor(\n",
      "[[0. 0. 0. ... 0. 0. 0.]\n",
      " [0. 0. 0. ... 0. 0. 0.]\n",
      " [0. 0. 0. ... 0. 0. 0.]\n",
      " ...\n",
      " [0. 0. 0. ... 0. 0. 0.]\n",
      " [0. 0. 0. ... 0. 0. 0.]\n",
      " [0. 0. 0. ... 0. 0. 0.]], shape=(60, 60), dtype=float64) tf.Tensor(\n",
      "[[0. 0. 0. ... 0. 0. 0.]\n",
      " [0. 0. 0. ... 0. 0. 0.]\n",
      " [0. 0. 0. ... 0. 0. 0.]\n",
      " ...\n",
      " [0. 0. 0. ... 0. 0. 0.]\n",
      " [0. 0. 0. ... 0. 0. 0.]\n",
      " [0. 0. 0. ... 0. 0. 0.]], shape=(60, 60), dtype=float64)\n"
     ]
    }
   ],
   "source": [
    "print(X_train[0],X_test[0])"
   ]
  },
  {
   "cell_type": "code",
   "execution_count": 135,
   "id": "64cb7eb3",
   "metadata": {},
   "outputs": [],
   "source": [
    "X_train = tf.reshape(X_train,[-1,60,60,1])\n",
    "X_test = tf.reshape(X_test,[-1,60,60,1])"
   ]
  },
  {
   "cell_type": "code",
   "execution_count": 151,
   "id": "35367fac",
   "metadata": {},
   "outputs": [
    {
     "name": "stdout",
     "output_type": "stream",
     "text": [
      "[[0. 0. 0. 0. 0. 0. 0. 1. 0. 0.]\n",
      " [0. 0. 1. 0. 0. 0. 0. 0. 0. 0.]\n",
      " [0. 1. 0. 0. 0. 0. 0. 0. 0. 0.]\n",
      " [1. 0. 0. 0. 0. 0. 0. 0. 0. 0.]\n",
      " [0. 0. 0. 0. 1. 0. 0. 0. 0. 0.]\n",
      " [0. 1. 0. 0. 0. 0. 0. 0. 0. 0.]\n",
      " [0. 0. 0. 0. 1. 0. 0. 0. 0. 0.]\n",
      " [0. 0. 0. 0. 0. 0. 0. 0. 0. 1.]\n",
      " [0. 0. 0. 0. 0. 1. 0. 0. 0. 0.]\n",
      " [0. 0. 0. 0. 0. 0. 0. 0. 0. 1.]]\n"
     ]
    }
   ],
   "source": [
    "# Convert the labels to one-hot-encoding\n",
    "Y_tr = keras.utils.to_categorical(Y_tr)\n",
    "Y_te = keras.utils.to_categorical(Y_te)\n",
    "print(Y_te[:10])"
   ]
  },
  {
   "cell_type": "code",
   "execution_count": 145,
   "id": "f3cd1a71",
   "metadata": {},
   "outputs": [
    {
     "name": "stdout",
     "output_type": "stream",
     "text": [
      "Model: \"sequential_3\"\n",
      "_________________________________________________________________\n",
      " Layer (type)                Output Shape              Param #   \n",
      "=================================================================\n",
      " conv2d_9 (Conv2D)           (None, 58, 58, 32)        320       \n",
      "                                                                 \n",
      " max_pooling2d_9 (MaxPooling  (None, 29, 29, 32)       0         \n",
      " 2D)                                                             \n",
      "                                                                 \n",
      " conv2d_10 (Conv2D)          (None, 27, 27, 32)        9248      \n",
      "                                                                 \n",
      " max_pooling2d_10 (MaxPoolin  (None, 13, 13, 32)       0         \n",
      " g2D)                                                            \n",
      "                                                                 \n",
      " conv2d_11 (Conv2D)          (None, 11, 11, 32)        9248      \n",
      "                                                                 \n",
      " max_pooling2d_11 (MaxPoolin  (None, 5, 5, 32)         0         \n",
      " g2D)                                                            \n",
      "                                                                 \n",
      " flatten_3 (Flatten)         (None, 800)               0         \n",
      "                                                                 \n",
      " dense_8 (Dense)             (None, 64)                51264     \n",
      "                                                                 \n",
      " dense_9 (Dense)             (None, 64)                4160      \n",
      "                                                                 \n",
      " dropout_1 (Dropout)         (None, 64)                0         \n",
      "                                                                 \n",
      " dense_10 (Dense)            (None, 32)                2080      \n",
      "                                                                 \n",
      " dense_11 (Dense)            (None, 10)                330       \n",
      "                                                                 \n",
      "=================================================================\n",
      "Total params: 76,650\n",
      "Trainable params: 76,650\n",
      "Non-trainable params: 0\n",
      "_________________________________________________________________\n"
     ]
    }
   ],
   "source": [
    "CNN_model = Sequential()\n",
    "CNN_model.add(Conv2D(32,(3,3),activation = \"relu\",input_shape = (60,60,1)))\n",
    "CNN_model.add(MaxPooling2D((2,2)))\n",
    "\n",
    "CNN_model.add(Conv2D(32,(3,3),activation = \"relu\"))\n",
    "CNN_model.add(MaxPooling2D((2,2)))\n",
    "\n",
    "CNN_model.add(Conv2D(32,(3,3),activation = \"relu\"))\n",
    "CNN_model.add(MaxPooling2D((2,2)))\n",
    "\n",
    "CNN_model.add(Flatten())\n",
    "CNN_model.add(Dense(64, activation = \"relu\"))\n",
    "CNN_model.add(Dense(64, activation = \"relu\"))\n",
    "CNN_model.add(Dropout(0.25))\n",
    "CNN_model.add(Dense(32, activation = \"relu\"))\n",
    "CNN_model.add(Dense(10, activation = \"softmax\"))\n",
    "CNN_model.summary()"
   ]
  },
  {
   "cell_type": "code",
   "execution_count": 152,
   "id": "e511ace8",
   "metadata": {},
   "outputs": [],
   "source": [
    "CNN_model.compile(loss = keras.losses.CategoricalCrossentropy(),\n",
    "                 optimizer = keras.optimizers.SGD(),\n",
    "                  metrics = [\"accuracy\"])"
   ]
  },
  {
   "cell_type": "code",
   "execution_count": 153,
   "id": "e01bb6b5",
   "metadata": {},
   "outputs": [],
   "source": [
    "from keras.callbacks import EarlyStopping,ModelCheckpoint\n",
    "\n",
    "ES = EarlyStopping(monitor = \"val_loss\", patience = 5)\n",
    "MC = ModelCheckpoint(\"./bestmodel.h5\", monitor = \"val_accuracy\", save_best_only = True)\n",
    "\n",
    "cbs = [ES, MC]"
   ]
  },
  {
   "cell_type": "code",
   "execution_count": 154,
   "id": "a802d4d7",
   "metadata": {},
   "outputs": [
    {
     "name": "stdout",
     "output_type": "stream",
     "text": [
      "Epoch 1/20\n",
      "1500/1500 [==============================] - 60s 39ms/step - loss: 1.2095 - accuracy: 0.5924 - val_loss: 0.2090 - val_accuracy: 0.9367\n",
      "Epoch 2/20\n",
      "1500/1500 [==============================] - 62s 41ms/step - loss: 0.2387 - accuracy: 0.9274 - val_loss: 0.1160 - val_accuracy: 0.9639\n",
      "Epoch 3/20\n",
      "1500/1500 [==============================] - 70s 46ms/step - loss: 0.1587 - accuracy: 0.9521 - val_loss: 0.0957 - val_accuracy: 0.9712\n",
      "Epoch 4/20\n",
      "1500/1500 [==============================] - 67s 45ms/step - loss: 0.1297 - accuracy: 0.9611 - val_loss: 0.1049 - val_accuracy: 0.9678\n",
      "Epoch 5/20\n",
      "1500/1500 [==============================] - 66s 44ms/step - loss: 0.1094 - accuracy: 0.9671 - val_loss: 0.0867 - val_accuracy: 0.9731\n",
      "Epoch 6/20\n",
      "1500/1500 [==============================] - 65s 44ms/step - loss: 0.0958 - accuracy: 0.9718 - val_loss: 0.0750 - val_accuracy: 0.9758\n",
      "Epoch 7/20\n",
      "1500/1500 [==============================] - 65s 43ms/step - loss: 0.0860 - accuracy: 0.9746 - val_loss: 0.0737 - val_accuracy: 0.9771\n",
      "Epoch 8/20\n",
      "1500/1500 [==============================] - 66s 44ms/step - loss: 0.0775 - accuracy: 0.9769 - val_loss: 0.0591 - val_accuracy: 0.9815\n",
      "Epoch 9/20\n",
      "1500/1500 [==============================] - 65s 44ms/step - loss: 0.0717 - accuracy: 0.9782 - val_loss: 0.0664 - val_accuracy: 0.9812\n",
      "Epoch 10/20\n",
      "1500/1500 [==============================] - 68s 45ms/step - loss: 0.0644 - accuracy: 0.9805 - val_loss: 0.0542 - val_accuracy: 0.9843\n",
      "Epoch 11/20\n",
      "1500/1500 [==============================] - 68s 45ms/step - loss: 0.0607 - accuracy: 0.9813 - val_loss: 0.0541 - val_accuracy: 0.9846\n",
      "Epoch 12/20\n",
      "1500/1500 [==============================] - 65s 44ms/step - loss: 0.0555 - accuracy: 0.9834 - val_loss: 0.0508 - val_accuracy: 0.9858\n",
      "Epoch 13/20\n",
      "1500/1500 [==============================] - 65s 43ms/step - loss: 0.0525 - accuracy: 0.9842 - val_loss: 0.0558 - val_accuracy: 0.9851\n",
      "Epoch 14/20\n",
      "1500/1500 [==============================] - 66s 44ms/step - loss: 0.0495 - accuracy: 0.9845 - val_loss: 0.0560 - val_accuracy: 0.9846\n",
      "Epoch 15/20\n",
      "1500/1500 [==============================] - 66s 44ms/step - loss: 0.0466 - accuracy: 0.9853 - val_loss: 0.0519 - val_accuracy: 0.9854\n",
      "Epoch 16/20\n",
      "1500/1500 [==============================] - 66s 44ms/step - loss: 0.0438 - accuracy: 0.9865 - val_loss: 0.0536 - val_accuracy: 0.9841\n",
      "Epoch 17/20\n",
      "1500/1500 [==============================] - 65s 44ms/step - loss: 0.0429 - accuracy: 0.9864 - val_loss: 0.0503 - val_accuracy: 0.9857\n",
      "Epoch 18/20\n",
      "1500/1500 [==============================] - 66s 44ms/step - loss: 0.0398 - accuracy: 0.9875 - val_loss: 0.0495 - val_accuracy: 0.9867\n",
      "Epoch 19/20\n",
      "1500/1500 [==============================] - 67s 45ms/step - loss: 0.0375 - accuracy: 0.9884 - val_loss: 0.0475 - val_accuracy: 0.9883\n",
      "Epoch 20/20\n",
      "1500/1500 [==============================] - 66s 44ms/step - loss: 0.0351 - accuracy: 0.9889 - val_loss: 0.0513 - val_accuracy: 0.9861\n"
     ]
    }
   ],
   "source": [
    "my_model = CNN_model.fit(X_train,Y_tr,validation_split = 0.2, shuffle = True, epochs = 20, batch_size = 32, callbacks = cbs)"
   ]
  },
  {
   "cell_type": "code",
   "execution_count": 156,
   "id": "80ea6623",
   "metadata": {},
   "outputs": [
    {
     "name": "stdout",
     "output_type": "stream",
     "text": [
      "313/313 [==============================] - 3s 9ms/step - loss: 0.0421 - accuracy: 0.9881\n"
     ]
    },
    {
     "data": {
      "text/plain": [
       "[0.04214167594909668, 0.988099992275238]"
      ]
     },
     "execution_count": 156,
     "metadata": {},
     "output_type": "execute_result"
    }
   ],
   "source": [
    "CNN_model.evaluate(X_test,Y_te)"
   ]
  },
  {
   "cell_type": "code",
   "execution_count": 194,
   "id": "381df587",
   "metadata": {},
   "outputs": [
    {
     "name": "stdout",
     "output_type": "stream",
     "text": [
      "1/1 [==============================] - 0s 16ms/step\n",
      "[0.0, 0.001, 0.0, 0.0, 3.97, 0.0, 0.0, 0.0, 0.027, 96.001]\n"
     ]
    },
    {
     "data": {
      "image/png": "[encoded data removed]",
      "text/plain": [
       "<Figure size 432x288 with 1 Axes>"
      ]
     },
     "metadata": {
      "needs_background": "light"
     },
     "output_type": "display_data"
    }
   ],
   "source": [
    "num = np.random.randint(0,len(X_test))\n",
    "Y_pred = CNN_model.predict(tf.reshape(X_test[num],[1,60,60,1]))\n",
    "plt.imshow(X_test[num])\n",
    "Y_pred = tf.reshape(Y_pred,[-1])\n",
    "prediction_percent = []\n",
    "for ele in Y_pred:\n",
    "    prediction_percent.append(round(ele.numpy()*100,3))\n",
    "digits = {}\n",
    "print(prediction_percent)"
   ]
  },
  {
   "cell_type": "code",
   "execution_count": 164,
   "id": "4d8892f3",
   "metadata": {},
   "outputs": [],
   "source": [
    "# Load our best model\n",
    "best_mod = keras.models.load_model(\"./bestmodel.h5\")"
   ]
  },
  {
   "cell_type": "code",
   "execution_count": 166,
   "id": "8ef38d1b",
   "metadata": {},
   "outputs": [
    {
     "name": "stdout",
     "output_type": "stream",
     "text": [
      "313/313 [==============================] - 3s 9ms/step - loss: 0.0369 - accuracy: 0.9886\n"
     ]
    },
    {
     "data": {
      "text/plain": [
       "[0.036935869604349136, 0.9886000156402588]"
      ]
     },
     "execution_count": 166,
     "metadata": {},
     "output_type": "execute_result"
    }
   ],
   "source": [
    "best_mod.evaluate(X_test,Y_te)"
   ]
  }
 ],
 "metadata": {
  "kernelspec": {
   "display_name": "Python 3 (ipykernel)",
   "language": "python",
   "name": "python3"
  },
  "language_info": {
   "codemirror_mode": {
    "name": "ipython",
    "version": 3
   },
   "file_extension": ".py",
   "mimetype": "text/x-python",
   "name": "python",
   "nbconvert_exporter": "python",
   "pygments_lexer": "ipython3",
   "version": "3.9.12"
  }
 },
 "nbformat": 4,
 "nbformat_minor": 5
}
